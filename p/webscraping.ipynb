{
 "cells": [
  {
   "cell_type": "code",
   "execution_count": 1,
   "metadata": {
    "colab": {
     "base_uri": "https://localhost:8080/"
    },
    "id": "4ap1JrZh8Lk5",
    "outputId": "7918fc85-ee35-4a2d-9ed4-2c70bc545bf6"
   },
   "outputs": [
    {
     "name": "stdout",
     "output_type": "stream",
     "text": [
      "Collecting autoscraper\n",
      "  Obtaining dependency information for autoscraper from https://files.pythonhosted.org/packages/61/07/ac4961ea3d88822f832297c199729136b26c93ad0c7580ac42b14c661812/autoscraper-1.1.14-py3-none-any.whl.metadata\n",
      "  Downloading autoscraper-1.1.14-py3-none-any.whl.metadata (5.3 kB)\n",
      "Requirement already satisfied: requests in c:\\users\\admin\\anaconda3\\lib\\site-packages (from autoscraper) (2.31.0)\n",
      "Collecting bs4 (from autoscraper)\n",
      "  Obtaining dependency information for bs4 from https://files.pythonhosted.org/packages/51/bb/bf7aab772a159614954d84aa832c129624ba6c32faa559dfb200a534e50b/bs4-0.0.2-py2.py3-none-any.whl.metadata\n",
      "  Downloading bs4-0.0.2-py2.py3-none-any.whl.metadata (411 bytes)\n",
      "Requirement already satisfied: lxml in c:\\users\\admin\\anaconda3\\lib\\site-packages (from autoscraper) (4.9.3)\n",
      "Requirement already satisfied: beautifulsoup4 in c:\\users\\admin\\anaconda3\\lib\\site-packages (from bs4->autoscraper) (4.12.2)\n",
      "Requirement already satisfied: charset-normalizer<4,>=2 in c:\\users\\admin\\anaconda3\\lib\\site-packages (from requests->autoscraper) (2.0.4)\n",
      "Requirement already satisfied: idna<4,>=2.5 in c:\\users\\admin\\anaconda3\\lib\\site-packages (from requests->autoscraper) (3.4)\n",
      "Requirement already satisfied: urllib3<3,>=1.21.1 in c:\\users\\admin\\anaconda3\\lib\\site-packages (from requests->autoscraper) (1.26.16)\n",
      "Requirement already satisfied: certifi>=2017.4.17 in c:\\users\\admin\\anaconda3\\lib\\site-packages (from requests->autoscraper) (2023.7.22)\n",
      "Requirement already satisfied: soupsieve>1.2 in c:\\users\\admin\\anaconda3\\lib\\site-packages (from beautifulsoup4->bs4->autoscraper) (2.4)\n",
      "Downloading autoscraper-1.1.14-py3-none-any.whl (10 kB)\n",
      "Downloading bs4-0.0.2-py2.py3-none-any.whl (1.2 kB)\n",
      "Installing collected packages: bs4, autoscraper\n",
      "Successfully installed autoscraper-1.1.14 bs4-0.0.2\n"
     ]
    }
   ],
   "source": [
    "!pip install autoscraper\n"
   ]
  },
  {
   "cell_type": "code",
   "execution_count": 2,
   "metadata": {
    "id": "QKeY96Wq8QEu"
   },
   "outputs": [],
   "source": [
    "from autoscraper import AutoScraper"
   ]
  },
  {
   "cell_type": "code",
   "execution_count": 3,
   "metadata": {
    "id": "L7CfHkVS8_bU"
   },
   "outputs": [],
   "source": [
    "amazon_url=\"https://www.amazon.in/s?k=iphone&ref=nb_sb_noss_1\"\n",
    "wanted_list=[\"Apple iPhone 13 (128GB) - Green\",\"₹52,990\",\"25,805\"]"
   ]
  },
  {
   "cell_type": "code",
   "execution_count": 4,
   "metadata": {
    "colab": {
     "base_uri": "https://localhost:8080/"
    },
    "id": "tyQmVQxB9JGN",
    "outputId": "cfceb784-3624-491b-8a20-e21b43740503"
   },
   "outputs": [
    {
     "name": "stdout",
     "output_type": "stream",
     "text": [
      "[]\n"
     ]
    }
   ],
   "source": [
    "scraper=AutoScraper()\n",
    "result=scraper.build(amazon_url,wanted_list)\n",
    "print(result)"
   ]
  },
  {
   "cell_type": "code",
   "execution_count": 5,
   "metadata": {
    "id": "bWnbLbw6-THy"
   },
   "outputs": [],
   "source": [
    "amazon_url=\"https://www.amazon.in/Apple-iPhone-14-128GB-Blue/dp/B0BDK62PDX/ref=sr_1_4?sr=8-4\"\n",
    "url=\"https://www.amazon.in/s?k=iphones\"\n",
    "wanted_list=[\"Prasanna\",\"Exceeding my expectation. Go for it.\",\"4.5 out of 5\"]"
   ]
  },
  {
   "cell_type": "code",
   "execution_count": 6,
   "metadata": {
    "colab": {
     "base_uri": "https://localhost:8080/"
    },
    "id": "hf8oID11-Wz0",
    "outputId": "354769bc-56db-485a-bd68-6ae364f3dd46"
   },
   "outputs": [
    {
     "name": "stdout",
     "output_type": "stream",
     "text": [
      "['Prasanna', 'Vaishnavi Nelabotla', 'Jayakrishnan', 'Marvellous', 'Hariharan Balakrishnan', 'Amazon Customer', 'Phone is absolutely perfect', 'Unique', 'Exceeding my expectation. Go for it.', 'Loved it ❤️', \"It's visually appealing and upgraded device, surpassing my old iPhone 12\", 'Iphone 14', 'Worthy gift for better half', 'Excellent product', 'Be care full when package received', 'Performance is good but battery performance', '4.5 out of 5']\n"
     ]
    }
   ],
   "source": [
    "scraper=AutoScraper()\n",
    "result=scraper.build(amazon_url,wanted_list)\n",
    "print(result)"
   ]
  },
  {
   "cell_type": "code",
   "execution_count": 15,
   "metadata": {
    "id": "swgegPgK-ZEG"
   },
   "outputs": [],
   "source": [
    "amazon_url=\"https://www.amazon.in/s?k=iphone\"\n",
    "wanted_list=[\"₹52,090\",\"Apple iPhone 13 (128GB) - Midnight\"]"
   ]
  },
  {
   "cell_type": "code",
   "execution_count": 16,
   "metadata": {},
   "outputs": [
    {
     "name": "stdout",
     "output_type": "stream",
     "text": [
      "['₹58,999', '₹52,090', '₹71,590', '₹1,37,990', '₹81,990', '₹80,990', '₹1,48,900', '₹62,490', '₹91,990', '₹66,999', 'Apple iPhone 14 (128 GB) - Midnight', 'Apple iPhone 13 (128GB) - Blue', 'Apple iPhone 13 (128GB) - Midnight', 'Apple iPhone 15 (128 GB) - Blue', 'Apple iPhone 14 (128 GB) - Purple', 'Apple iPhone 15 (128 GB) - Green', 'Apple iPhone 15 Pro (256 GB) - Natural Titanium', 'Apple iPhone 15 (256 GB) - Blue', 'Apple iPhone 13 (128GB) - Starlight', 'Apple iPhone 15 Plus (128 GB) - Blue', 'Apple iPhone 15 Plus (128 GB) - Black', 'Apple iPhone 15 (256 GB) - Black', 'Apple iPhone 15 Pro Max (256 GB) - Blue Titanium', 'Apple iPhone 13 (256GB) - Midnight', 'Apple iPhone 15 Plus (256 GB) - Blue', 'Apple iPhone 14 Plus (128 GB) - Midnight', 'Apple iPhone 15 (128 GB) - Black']\n"
     ]
    }
   ],
   "source": [
    "scraper=AutoScraper()\n",
    "result=scraper.build(amazon_url,wanted_list)\n",
    "print(result)"
   ]
  },
  {
   "cell_type": "code",
   "execution_count": 17,
   "metadata": {},
   "outputs": [
    {
     "data": {
      "text/plain": [
       "{'rule_z3j1': ['₹58,999',\n",
       "  '₹52,090',\n",
       "  '₹52,090',\n",
       "  '₹71,590',\n",
       "  '₹58,999',\n",
       "  '₹71,590',\n",
       "  '₹1,37,990',\n",
       "  '₹81,990',\n",
       "  '₹52,090',\n",
       "  '₹80,990',\n",
       "  '₹80,990',\n",
       "  '₹81,990',\n",
       "  '₹62,490',\n",
       "  '₹91,990',\n",
       "  '₹66,999',\n",
       "  '₹61,490'],\n",
       " 'rule_pj2a': ['₹58,999',\n",
       "  '₹52,090',\n",
       "  '₹52,090',\n",
       "  '₹71,590',\n",
       "  '₹58,999',\n",
       "  '₹71,590',\n",
       "  '₹1,37,990',\n",
       "  '₹81,990',\n",
       "  '₹52,090',\n",
       "  '₹80,990',\n",
       "  '₹80,990',\n",
       "  '₹81,990',\n",
       "  '₹62,490',\n",
       "  '₹91,990',\n",
       "  '₹66,999',\n",
       "  '₹61,490'],\n",
       " 'rule_vdqc': ['₹58,999',\n",
       "  '₹52,090',\n",
       "  '₹52,090',\n",
       "  '₹71,590',\n",
       "  '₹58,999',\n",
       "  '₹71,590',\n",
       "  '₹1,37,990',\n",
       "  '₹81,990',\n",
       "  '₹52,090',\n",
       "  '₹80,990',\n",
       "  '₹80,990',\n",
       "  '₹81,990',\n",
       "  '₹62,490',\n",
       "  '₹91,990',\n",
       "  '₹66,999',\n",
       "  '₹61,490'],\n",
       " 'rule_xacj': ['₹58,999',\n",
       "  '₹52,090',\n",
       "  '₹52,090',\n",
       "  '₹71,590',\n",
       "  '₹58,999',\n",
       "  '₹71,590',\n",
       "  '₹1,37,990',\n",
       "  '₹81,990',\n",
       "  '₹52,090',\n",
       "  '₹80,990',\n",
       "  '₹80,990',\n",
       "  '₹81,990',\n",
       "  '₹62,490',\n",
       "  '₹91,990',\n",
       "  '₹66,999',\n",
       "  '₹61,490'],\n",
       " 'rule_rrky': ['₹58,999',\n",
       "  '₹52,090',\n",
       "  '₹52,090',\n",
       "  '₹71,590',\n",
       "  '₹58,999',\n",
       "  '₹71,590',\n",
       "  '₹1,37,990',\n",
       "  '₹81,990',\n",
       "  '₹52,090',\n",
       "  '₹80,990',\n",
       "  '₹80,990',\n",
       "  '₹81,990',\n",
       "  '₹62,490',\n",
       "  '₹91,990',\n",
       "  '₹66,999',\n",
       "  '₹61,490'],\n",
       " 'rule_qasn': ['₹58,999',\n",
       "  '₹52,090',\n",
       "  '₹52,090',\n",
       "  '₹71,590',\n",
       "  '₹58,999',\n",
       "  '₹71,590',\n",
       "  '₹1,37,990',\n",
       "  '₹81,990',\n",
       "  '₹52,090',\n",
       "  '₹80,990',\n",
       "  '₹80,990',\n",
       "  '₹81,990',\n",
       "  '₹62,490',\n",
       "  '₹91,990',\n",
       "  '₹66,999',\n",
       "  '₹61,490'],\n",
       " 'rule_h6oc': ['₹52,090', '₹71,590'],\n",
       " 'rule_mow8': ['₹52,090', '₹71,590'],\n",
       " 'rule_3t4k': ['Apple iPhone 14 (128 GB) - Midnight',\n",
       "  'Apple iPhone 13 (128GB) - Blue',\n",
       "  'Apple iPhone 13 (128GB) - Midnight',\n",
       "  'Apple iPhone 15 (128 GB) - Blue',\n",
       "  'Apple iPhone 14 (128 GB) - Purple',\n",
       "  'Apple iPhone 15 (128 GB) - Green',\n",
       "  'Apple iPhone 15 Pro (256 GB) - Natural Titanium',\n",
       "  'Apple iPhone 15 (256 GB) - Blue',\n",
       "  'Apple iPhone 13 (128GB) - Starlight',\n",
       "  'Apple iPhone 15 Plus (128 GB) - Blue',\n",
       "  'Apple iPhone 15 Plus (128 GB) - Black',\n",
       "  'Apple iPhone 15 (256 GB) - Black',\n",
       "  'Apple iPhone 13 (256GB) - Midnight',\n",
       "  'Apple iPhone 15 Plus (256 GB) - Blue',\n",
       "  'Apple iPhone 14 Plus (128 GB) - Midnight',\n",
       "  'Apple iPhone 13 (256GB) - (Product) RED'],\n",
       " 'rule_lnxc': ['Apple iPhone 14 (128 GB) - Midnight',\n",
       "  'Apple iPhone 13 (128GB) - Blue',\n",
       "  'Apple iPhone 13 (128GB) - Midnight',\n",
       "  'Apple iPhone 15 (128 GB) - Blue',\n",
       "  'Apple iPhone 14 (128 GB) - Purple',\n",
       "  'Apple iPhone 15 (128 GB) - Green',\n",
       "  'Apple iPhone 15 Pro (256 GB) - Natural Titanium',\n",
       "  'Apple iPhone 15 (256 GB) - Blue',\n",
       "  'Apple iPhone 13 (128GB) - Starlight',\n",
       "  'Apple iPhone 15 Plus (128 GB) - Blue',\n",
       "  'Apple iPhone 15 Plus (128 GB) - Black',\n",
       "  'Apple iPhone 15 (256 GB) - Black',\n",
       "  'Apple iPhone 13 (256GB) - Midnight',\n",
       "  'Apple iPhone 15 Plus (256 GB) - Blue',\n",
       "  'Apple iPhone 14 Plus (128 GB) - Midnight',\n",
       "  'Apple iPhone 13 (256GB) - (Product) RED'],\n",
       " 'rule_i6o7': ['Apple iPhone 13 (128GB) - Midnight',\n",
       "  'Apple iPhone 15 (128 GB) - Black']}"
      ]
     },
     "execution_count": 17,
     "metadata": {},
     "output_type": "execute_result"
    }
   ],
   "source": [
    "scraper.get_result_similar(amazon_url,grouped=True)"
   ]
  },
  {
   "cell_type": "code",
   "execution_count": 19,
   "metadata": {},
   "outputs": [],
   "source": [
    "scraper.set_rule_aliases({'rule_i6o7':'Title','rule_h6oc':'Price'})\n",
    "scraper.keep_rules(['rule_i6o7','rule_h6oc'])\n",
    "scraper.save('amazon-search')"
   ]
  },
  {
   "cell_type": "code",
   "execution_count": 20,
   "metadata": {},
   "outputs": [],
   "source": [
    "results=scraper.get_result_similar('https://www.amazon.in/s?k=mi+phones+under+15000',group_by_alias=True)"
   ]
  },
  {
   "cell_type": "code",
   "execution_count": 21,
   "metadata": {},
   "outputs": [
    {
     "data": {
      "text/plain": [
       "['₹14,799', '₹10,999', '₹7,499']"
      ]
     },
     "execution_count": 21,
     "metadata": {},
     "output_type": "execute_result"
    }
   ],
   "source": [
    "results['Price']"
   ]
  },
  {
   "cell_type": "code",
   "execution_count": null,
   "metadata": {},
   "outputs": [],
   "source": []
  }
 ],
 "metadata": {
  "colab": {
   "provenance": []
  },
  "kernelspec": {
   "display_name": "Python 3 (ipykernel)",
   "language": "python",
   "name": "python3"
  },
  "language_info": {
   "codemirror_mode": {
    "name": "ipython",
    "version": 3
   },
   "file_extension": ".py",
   "mimetype": "text/x-python",
   "name": "python",
   "nbconvert_exporter": "python",
   "pygments_lexer": "ipython3",
   "version": "3.11.5"
  }
 },
 "nbformat": 4,
 "nbformat_minor": 1
}
